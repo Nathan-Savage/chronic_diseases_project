# Import dependencies
import pandas as pd
import numpy as np
import seaborn as sns
import matplotlib.pyplot as plt
import ipywidgets as widgets
pd.set_option('max_colwidth', 400)


# Read the data into a Pandas DataFrame
chronic_disease_df = pd.read_csv('Resources/U.S._Chronic_Disease_Indicators 2.csv')
chronic_disease_df.head()


chronic_disease_df.info


chronic_disease_df.columns


chronic_disease_df.rename(columns={
    'YearStart': 'year_started',
    'YearEnd': 'year_ended',
    'LocationAbbr': 'state_abbr',
    'LocationDesc': 'state'}, inplace=True)

chronic_disease_df


datasources = chronic_disease_df['DataSource'].unique()
print(datasources)


chronic_disease_df.columns


heatmap_df = chronic_disease_df[[
    'year_started', 
    'year_ended', 
    'state_abbr', 
    'state', 
    'DataSource',
    'Topic'
]]

heatmap_df


#UI for the heatmap
#user_topic = input("Select a topic from: Topic)
#user_state = input('Select a state from: state_abbr)


# Create a heatmap for a specific Topic and State
selected_topic = 'Sleep'
selected_state = 'CA'
filtered_df = heatmap_df[(heatmap_df['Topic'] == selected_topic) & (heatmap_df['state_abbr'] == selected_state)]

plt.clf()  # Clear the current figure
if not filtered_df.empty:
    heatmap_data = filtered_df.pivot_table(index='year_started', columns='year_ended', values='DataSource', aggfunc='count', fill_value=0)
    sns.heatmap(heatmap_data, annot=True, cmap='coolwarm')
    plt.title(f'Heatmap for {selected_topic} in {selected_state}')
else:
    plt.text(0.5, 0.5, 'No data available for the selected Topic and State', horizontalalignment='center', 
             verticalalignment='center', fontsize=12)
    plt.axis('off')

plt.show()


#if widgets would work
# Create dropdowns for Topic and State
topic_dropdown = widgets.Dropdown(
    options=heatmap_df['Topic'].unique(),
    description='Topic:',
)

state_dropdown = widgets.Dropdown(
    options=heatmap_df['state_abbr'].unique(),
    description='State:',
)

# Function to update the heatmap based on dropdown selections
def update_heatmap(selected_topic, selected_state):
    filtered_df = heatmap_df[(heatmap_df['Topic'] == selected_topic) & (heatmap_df['state_abbr'] == selected_state)]
    
    plt.clf()  # Clear the current figure
    if not filtered_df.empty:
        heatmap_data = filtered_df.pivot_table(index='year_started', columns='year_ended', 
                                               values='DataSource', aggfunc='count', fill_value=0)
        sns.heatmap(heatmap_data, annot=True, cmap='coolwarm')
        plt.title(f'Heatmap for {selected_topic} in {selected_state}')
    else:
        plt.text(0.5, 0.5, 'No data available for the selected Topic and State', 
                 horizontalalignment='center', verticalalignment='center', fontsize=12)
        plt.axis('off')
    
    plt.show()
    
# Create an interactive output
widgets.interactive(update_heatmap, selected_topic=topic_dropdown, selected_state=state_dropdown)

# Display the dropdowns
display(topic_dropdown, state_dropdown)


widgets.IntSlider()



